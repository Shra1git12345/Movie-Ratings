{
 "cells": [
  {
   "cell_type": "code",
   "execution_count": 1,
   "id": "f8b139a2",
   "metadata": {},
   "outputs": [],
   "source": [
    "###########################################################################"
   ]
  },
  {
   "cell_type": "code",
   "execution_count": 2,
   "id": "532c0330",
   "metadata": {},
   "outputs": [],
   "source": [
    "# Introduction\n",
    "\n",
    "# This Jupyter notebook is part of your assignment\n",
    "# You will work with a data set that contains the movie ratings of 10 movies given by 100 unique users\n",
    "# The overall task is to build a set of functions that will act as a simple movie recommendation system\n",
    "# The recommender system must recommend the top three movies to a user based on their previously searched movie\n",
    "\n",
    "# In this exercise, you will perform the following tasks:\n",
    "# 1 - Load and study the data\n",
    "# 2 - Create a function to calculate the angle between the user ratings vectors for two movies\n",
    "# 3 - Create a function to print the names of the top three most similar movies based on the movie that a user watched recently"
   ]
  },
  {
   "cell_type": "code",
   "execution_count": 3,
   "id": "c9f196d7",
   "metadata": {},
   "outputs": [],
   "source": [
    "###########################################################################"
   ]
  },
  {
   "cell_type": "code",
   "execution_count": 4,
   "id": "95d90d96",
   "metadata": {},
   "outputs": [],
   "source": [
    "# Task 1 - Load and study the data\n",
    "\n",
    "# Load the data and study its features such as:\n",
    "# The number of users\n",
    "# The number of movies\n",
    "# The ranges of ratings"
   ]
  },
  {
   "cell_type": "code",
   "execution_count": 5,
   "id": "9f5c393c",
   "metadata": {},
   "outputs": [],
   "source": [
    "# Load \"numpy\" and \"pandas\" for manipulating numbers, vectors and data frames\n",
    "import numpy as np\n",
    "import pandas as pd"
   ]
  },
  {
   "cell_type": "code",
   "execution_count": 7,
   "id": "5608a781",
   "metadata": {},
   "outputs": [],
   "source": [
    "# Read in the \"User_Movie_Ratings_Graded.csv\" file as a Pandas Data Frame\n",
    "# Note: Make sure the code and the data are in the same folder or specify the appropriate path for the data\n",
    "df = pd.read_csv('User_Movie_Ratings_.csv', index_col = 0)"
   ]
  },
  {
   "cell_type": "code",
   "execution_count": 7,
   "id": "1d613072",
   "metadata": {},
   "outputs": [
    {
     "name": "stdout",
     "output_type": "stream",
     "text": [
      "The \"User_Movie_Ratings_Graded.csv\" data is a completely fabricated data set for use only on the upGrad platform.\n",
      "\n",
      "Any resemblance to entities past, present or future is merely a coincidence.\n",
      "\n",
      "Feature Description:\n",
      "The data set contains ratings given by users to movies on a scale of 1 to 5.\n",
      "Each row contains the ratings given to all the movies by a particular user.\n",
      "Each column contains the ratings given to a particular movie by all the users.\n"
     ]
    }
   ],
   "source": [
    "# Study the description of the data\n",
    "# Note: Make sure the code and the data description are in the same folder or specify the appropriate path for the data\n",
    "with open('User_Movie_Ratings_Graded_Feature_Description.txt', 'r') as f:\n",
    "    print(f.read())"
   ]
  },
  {
   "cell_type": "code",
   "execution_count": 8,
   "id": "9385b905",
   "metadata": {},
   "outputs": [
    {
     "data": {
      "text/html": [
       "<div>\n",
       "<style scoped>\n",
       "    .dataframe tbody tr th:only-of-type {\n",
       "        vertical-align: middle;\n",
       "    }\n",
       "\n",
       "    .dataframe tbody tr th {\n",
       "        vertical-align: top;\n",
       "    }\n",
       "\n",
       "    .dataframe thead th {\n",
       "        text-align: right;\n",
       "    }\n",
       "</style>\n",
       "<table border=\"1\" class=\"dataframe\">\n",
       "  <thead>\n",
       "    <tr style=\"text-align: right;\">\n",
       "      <th></th>\n",
       "      <th>Avengers: Endgame</th>\n",
       "      <th>King Kong</th>\n",
       "      <th>Wonder Woman</th>\n",
       "      <th>Star Wars: The Last Jedi</th>\n",
       "      <th>Thor: Ragnarok</th>\n",
       "      <th>The Lighthouse</th>\n",
       "      <th>The Babadook</th>\n",
       "      <th>A Quite Place</th>\n",
       "      <th>The Invisible Man</th>\n",
       "      <th>It Follows</th>\n",
       "    </tr>\n",
       "    <tr>\n",
       "      <th>User</th>\n",
       "      <th></th>\n",
       "      <th></th>\n",
       "      <th></th>\n",
       "      <th></th>\n",
       "      <th></th>\n",
       "      <th></th>\n",
       "      <th></th>\n",
       "      <th></th>\n",
       "      <th></th>\n",
       "      <th></th>\n",
       "    </tr>\n",
       "  </thead>\n",
       "  <tbody>\n",
       "    <tr>\n",
       "      <th>Abhijit</th>\n",
       "      <td>5</td>\n",
       "      <td>4</td>\n",
       "      <td>5</td>\n",
       "      <td>5</td>\n",
       "      <td>4</td>\n",
       "      <td>1</td>\n",
       "      <td>2</td>\n",
       "      <td>1</td>\n",
       "      <td>3</td>\n",
       "      <td>2</td>\n",
       "    </tr>\n",
       "    <tr>\n",
       "      <th>Amanda</th>\n",
       "      <td>1</td>\n",
       "      <td>2</td>\n",
       "      <td>2</td>\n",
       "      <td>3</td>\n",
       "      <td>3</td>\n",
       "      <td>5</td>\n",
       "      <td>4</td>\n",
       "      <td>5</td>\n",
       "      <td>5</td>\n",
       "      <td>4</td>\n",
       "    </tr>\n",
       "    <tr>\n",
       "      <th>Arnold</th>\n",
       "      <td>2</td>\n",
       "      <td>2</td>\n",
       "      <td>3</td>\n",
       "      <td>1</td>\n",
       "      <td>2</td>\n",
       "      <td>5</td>\n",
       "      <td>5</td>\n",
       "      <td>5</td>\n",
       "      <td>4</td>\n",
       "      <td>5</td>\n",
       "    </tr>\n",
       "    <tr>\n",
       "      <th>Arvind</th>\n",
       "      <td>4</td>\n",
       "      <td>5</td>\n",
       "      <td>3</td>\n",
       "      <td>4</td>\n",
       "      <td>5</td>\n",
       "      <td>1</td>\n",
       "      <td>2</td>\n",
       "      <td>2</td>\n",
       "      <td>3</td>\n",
       "      <td>2</td>\n",
       "    </tr>\n",
       "    <tr>\n",
       "      <th>Azalea</th>\n",
       "      <td>3</td>\n",
       "      <td>2</td>\n",
       "      <td>4</td>\n",
       "      <td>3</td>\n",
       "      <td>5</td>\n",
       "      <td>1</td>\n",
       "      <td>3</td>\n",
       "      <td>1</td>\n",
       "      <td>3</td>\n",
       "      <td>1</td>\n",
       "    </tr>\n",
       "  </tbody>\n",
       "</table>\n",
       "</div>"
      ],
      "text/plain": [
       "         Avengers: Endgame  King Kong  Wonder Woman  Star Wars: The Last Jedi  \\\n",
       "User                                                                            \n",
       "Abhijit                  5          4             5                         5   \n",
       "Amanda                   1          2             2                         3   \n",
       "Arnold                   2          2             3                         1   \n",
       "Arvind                   4          5             3                         4   \n",
       "Azalea                   3          2             4                         3   \n",
       "\n",
       "         Thor: Ragnarok  The Lighthouse  The Babadook  A Quite Place  \\\n",
       "User                                                                   \n",
       "Abhijit               4               1             2              1   \n",
       "Amanda                3               5             4              5   \n",
       "Arnold                2               5             5              5   \n",
       "Arvind                5               1             2              2   \n",
       "Azalea                5               1             3              1   \n",
       "\n",
       "         The Invisible Man  It Follows  \n",
       "User                                    \n",
       "Abhijit                  3           2  \n",
       "Amanda                   5           4  \n",
       "Arnold                   4           5  \n",
       "Arvind                   3           2  \n",
       "Azalea                   3           1  "
      ]
     },
     "execution_count": 8,
     "metadata": {},
     "output_type": "execute_result"
    }
   ],
   "source": [
    "# Take a brief look at the data frame using \".head()\"\n",
    "df.head()"
   ]
  },
  {
   "cell_type": "code",
   "execution_count": 9,
   "id": "5b5bb00f",
   "metadata": {},
   "outputs": [
    {
     "data": {
      "text/plain": [
       "(100, 10)"
      ]
     },
     "execution_count": 9,
     "metadata": {},
     "output_type": "execute_result"
    }
   ],
   "source": [
    "# Check the dimensions of the data frame using \".shape\"\n",
    "########## CODE HERE ##########\n",
    "df.shape"
   ]
  },
  {
   "cell_type": "code",
   "execution_count": 10,
   "id": "a6b34a1e",
   "metadata": {},
   "outputs": [
    {
     "name": "stdout",
     "output_type": "stream",
     "text": [
      "<class 'pandas.core.frame.DataFrame'>\n",
      "Index: 100 entries, Abhijit to Zubair\n",
      "Data columns (total 10 columns):\n",
      " #   Column                    Non-Null Count  Dtype\n",
      "---  ------                    --------------  -----\n",
      " 0   Avengers: Endgame         100 non-null    int64\n",
      " 1   King Kong                 100 non-null    int64\n",
      " 2   Wonder Woman              100 non-null    int64\n",
      " 3   Star Wars: The Last Jedi  100 non-null    int64\n",
      " 4   Thor: Ragnarok            100 non-null    int64\n",
      " 5   The Lighthouse            100 non-null    int64\n",
      " 6   The Babadook              100 non-null    int64\n",
      " 7   A Quite Place             100 non-null    int64\n",
      " 8   The Invisible Man         100 non-null    int64\n",
      " 9   It Follows                100 non-null    int64\n",
      "dtypes: int64(10)\n",
      "memory usage: 8.6+ KB\n"
     ]
    }
   ],
   "source": [
    "# View basic information about the data frame using \".info()\"\n",
    "########## CODE HERE ##########\n",
    "df.info()"
   ]
  },
  {
   "cell_type": "code",
   "execution_count": 11,
   "id": "ec8d6e99",
   "metadata": {},
   "outputs": [],
   "source": [
    "# Observations\n",
    "\n",
    "# There are 100 rows and 10 columns in the data\n",
    "# Each row corresponds to the movie ratings given by a particular user\n",
    "# Each column corresponds to the user ratings given to a particular movie\n",
    "# The movie ratings range from 1 to 5 and they are whole numbers"
   ]
  },
  {
   "cell_type": "code",
   "execution_count": 12,
   "id": "a094e56d",
   "metadata": {},
   "outputs": [],
   "source": [
    "###########################################################################"
   ]
  },
  {
   "cell_type": "code",
   "execution_count": 13,
   "id": "29612b34",
   "metadata": {},
   "outputs": [],
   "source": [
    "# Task 2 - Create a function to calculate the angle between two vectors\n",
    "\n",
    "# The angle between any two vectors can be used as a similarity measure between those two vectors\n",
    "# We will calculate the angle between two vectors using dot products\n",
    "\n",
    "# The algorithm to find the angle between two vectors is as follows:\n",
    "# Step 1 - Calculate the dot product of the two vectors\n",
    "# Step 2 - Calculate the magnitudes of the two vectors\n",
    "# Step 3 - Divide the value obtained in step 1 by the product of the values obtained in step 2\n",
    "# Step 4 - Find the inverse cosine of the value obtained in step 3"
   ]
  },
  {
   "cell_type": "code",
   "execution_count": 20,
   "id": "5344bfc9",
   "metadata": {},
   "outputs": [],
   "source": [
    "# Create a function called \"ang()\" which takes in two movie names and returns the angle between their user ratings vectors\n",
    "# Note: Pass in only the movie names as inputs and access the user ratings vectors within the function\n",
    "# Note: Use \"np.dot()\" to calculate dot products\n",
    "# Note: Use \"np.linalg.norm()\" with default parameters to calculate magnitudes\n",
    "# Note: Use \"round()\" to round the denominator part of the angle formula which contains the product of the two magnitudes\n",
    "# Note: Use \"np.arccos()\" to calculate inverse cosines\n",
    "########## CODE HERE ##########\n",
    "def ang(movie1, movie2):\n",
    "    vec1 = df[movie1]\n",
    "    vec2 = df[movie2]\n",
    "    \n",
    "    dot_product = np.dot(vec1, vec2)\n",
    "    magnitude_vec1 = np.linalg.norm(vec1)\n",
    "    magnitude_vec2 = np.linalg.norm(vec2)\n",
    "    \n",
    "    angle = np.arccos(dot_product / (magnitude_vec1 * magnitude_vec2))\n",
    "    \n",
    "    return np.degrees(angle)\n"
   ]
  },
  {
   "cell_type": "code",
   "execution_count": 22,
   "id": "d35150b9",
   "metadata": {},
   "outputs": [
    {
     "name": "stdout",
     "output_type": "stream",
     "text": [
      "26.008495885526973\n",
      "0.45392049902434994\n"
     ]
    }
   ],
   "source": [
    "# Calculate the angle between the user ratings vectors for the movies \"King Kong\" and 'Wonder Woman' using the function \"ang()\"\n",
    "########## CODE HERE #########\n",
    "angle=ang('King Kong','Wonder Woman')\n",
    "print(angle)\n",
    "radians= (angle*3.1415)/180\n",
    "print(radians)"
   ]
  },
  {
   "cell_type": "code",
   "execution_count": 29,
   "id": "b78ee6db",
   "metadata": {},
   "outputs": [
    {
     "name": "stdout",
     "output_type": "stream",
     "text": [
      "48.44797891336492\n",
      "0.8455518097574216\n"
     ]
    }
   ],
   "source": [
    "# Calculate the angle between the user ratings vectors for the movies \"King Kong\" and 'The Lighthouse' using the function \"ang()\"\n",
    "########## CODE HERE ##########\n",
    "\n",
    "angle=ang('King Kong', 'The Lighthouse')\n",
    "print(angle)\n",
    "radians= (angle*3.1415)/180\n",
    "print(radians)"
   ]
  },
  {
   "cell_type": "code",
   "execution_count": 30,
   "id": "62221478",
   "metadata": {},
   "outputs": [
    {
     "name": "stdout",
     "output_type": "stream",
     "text": [
      "nan\n",
      "nan\n"
     ]
    },
    {
     "name": "stderr",
     "output_type": "stream",
     "text": [
      "C:\\Users\\Shravan\\AppData\\Local\\Temp\\ipykernel_16764\\386920124.py:16: RuntimeWarning: invalid value encountered in arccos\n",
      "  angle = np.arccos(dot_product / (magnitude_vec1 * magnitude_vec2))\n"
     ]
    }
   ],
   "source": [
    "# Calculate the angle between the user ratings vectors for the movie \"King Kong\" with itself using the function \"ang()\"\n",
    "########## CODE HERE ##########\n",
    "angle=ang('King Kong', 'King Kong')\n",
    "print(angle)\n",
    "radians= (angle*3.1415)/180\n",
    "print(radians)"
   ]
  },
  {
   "cell_type": "code",
   "execution_count": 18,
   "id": "d4be2923",
   "metadata": {},
   "outputs": [],
   "source": [
    "# Observations\n",
    "\n",
    "# The dot product of two vectors can be used to calculate the angle between the two vectors\n",
    "# The angle obtained is in radians\n",
    "# The angle between two vectors measures the similarity between those vectors\n",
    "# The angle between a vector and itself is 0 radians\n",
    "# The smaller the angle between two vectors, the higher their similarity score, and vice versa\n",
    "# The larger the angle between two vectors, the lower their similarity score, and vice versa\n",
    "# To overcome Python's precision limitations, we round the denominator of the angle formula"
   ]
  },
  {
   "cell_type": "code",
   "execution_count": 19,
   "id": "292003c9",
   "metadata": {},
   "outputs": [],
   "source": [
    "###########################################################################"
   ]
  },
  {
   "cell_type": "code",
   "execution_count": 20,
   "id": "d1be8108",
   "metadata": {},
   "outputs": [],
   "source": [
    "# Task 3 - Create a function to print the names of the top three most similar movies based on the movie that a user watched recently\n",
    "\n",
    "# The angle between two vectors can be used as a measure of similarity between the two vectors\n",
    "# The smaller the angle between two vectors, the higher their similarity score, and vice versa\n",
    "# The larger the angle between two vectors, the lower their similarity score, and vice versa\n",
    "# We will create a function that returns the names of the top three most similar movies based on a given input movie name"
   ]
  },
  {
   "cell_type": "code",
   "execution_count": 31,
   "id": "34e7596a",
   "metadata": {},
   "outputs": [],
   "source": [
    "# Define a function \"moviereco()\" that takes in the name of a movie and returns the names of the top three most similar movies\n",
    "# Note: Use the \"ang()\" function to measure similarities between movies (using their user ratings vectors)\n",
    "# Note: You may create a temporary Pandas Series within the \"moviereco()\" function to store the angle values\n",
    "# Note: The \"index\" parameter of the series can be set as \"df.columns\"\n",
    "# Note: You may need to specify the \"dtype\" parameter of the series as \"float64\" to avoid some warnings\n",
    "# Note: You may sort the entries in this series and return the second, third and fourth index names of the series\n",
    "# Note: Use the \".sort_values()\" function with the default value for the \"ascending\" parameter, which is \"True\"\n",
    "# Note: The first entry after sorting will be trivial\n",
    "# Note: Return the three movie names as a list\n",
    "########## CODE HERE ##########\n",
    "def moviereco(movie_name):\n",
    "    similarities = pd.Series({movie: ang(movie_name, movie) for movie in df.keys()}, dtype='float64')\n",
    "    top_similarities = similarities.sort_values()[1:4]\n",
    "    return top_similarities.index.tolist()"
   ]
  },
  {
   "cell_type": "code",
   "execution_count": 34,
   "id": "73a542f3",
   "metadata": {},
   "outputs": [
    {
     "name": "stdout",
     "output_type": "stream",
     "text": [
      "['Wonder Woman', 'Thor: Ragnarok', 'King Kong']\n"
     ]
    }
   ],
   "source": [
    "# Use the function \"moviereco()\" to recommend the top three similar movies to a user who watched \"Star Wars: The Last Jedi\"\n",
    "########## CODE HERE ##########\n",
    "rec=moviereco('Star Wars: The Last Jedi')\n",
    "print(rec)"
   ]
  },
  {
   "cell_type": "code",
   "execution_count": 35,
   "id": "0f9274aa",
   "metadata": {},
   "outputs": [
    {
     "name": "stdout",
     "output_type": "stream",
     "text": [
      "['A Quite Place', 'The Lighthouse', 'It Follows']\n"
     ]
    }
   ],
   "source": [
    "# Use the function \"moviereco()\" to recommend the top three similar movies to a user who watched \"The Babadook\"\n",
    "########## CODE HERE ##########\n",
    "rec=moviereco('The Babadook')\n",
    "print(rec)"
   ]
  },
  {
   "cell_type": "code",
   "execution_count": 24,
   "id": "7cfba3da",
   "metadata": {},
   "outputs": [],
   "source": [
    "# Observations\n",
    "\n",
    "# The angle between the user ratings vectors for two particular movies is a measure of similarity between the movies\n",
    "# The smaller the angle, the more similar the movies, and vice versa\n",
    "# The larget the angle, the less similar the movies, and vice versa\n",
    "# Using the name of the last movie watched by a user, we can recommend a list of similar movies to them"
   ]
  },
  {
   "cell_type": "code",
   "execution_count": 25,
   "id": "5a3e6a62",
   "metadata": {},
   "outputs": [],
   "source": [
    "###########################################################################"
   ]
  },
  {
   "cell_type": "code",
   "execution_count": 26,
   "id": "6b8657d2",
   "metadata": {},
   "outputs": [],
   "source": [
    "# Conclusions\n",
    "\n",
    "# We can use the angle between user ratings vectors of two movies to measure their similarity\n",
    "# Using these measures, we can recommend similar movies to a user based on the movie they watched recently\n",
    "# This is a very basic look into the working methodology of recommender systems\n",
    "# Extensions and additions to this methodology are used extensively in industrial movie recommendation systems"
   ]
  },
  {
   "cell_type": "code",
   "execution_count": 27,
   "id": "b8a5ed8b",
   "metadata": {},
   "outputs": [],
   "source": [
    "###########################################################################"
   ]
  }
 ],
 "metadata": {
  "kernelspec": {
   "display_name": "Python 3 (ipykernel)",
   "language": "python",
   "name": "python3"
  },
  "language_info": {
   "codemirror_mode": {
    "name": "ipython",
    "version": 3
   },
   "file_extension": ".py",
   "mimetype": "text/x-python",
   "name": "python",
   "nbconvert_exporter": "python",
   "pygments_lexer": "ipython3",
   "version": "3.11.5"
  }
 },
 "nbformat": 4,
 "nbformat_minor": 5
}
